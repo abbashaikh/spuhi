{
 "cells": [
  {
   "cell_type": "code",
   "execution_count": 1,
   "id": "f906ec72",
   "metadata": {},
   "outputs": [],
   "source": [
    "import json\n",
    "\n",
    "import numpy as np\n",
    "import torch\n",
    "import torch.nn as nn\n",
    "\n",
    "from collections import defaultdict\n",
    "\n",
    "from torch.utils import data\n",
    "from trajdata import AgentBatch, AgentType, UnifiedDataset\n",
    "from trajdata.augmentation import NoiseHistories\n",
    "\n",
    "from traj_pred.modules.model_registrar import ModelRegistrar\n",
    "from traj_pred.trajectory_predictor import TrajectoryPredictor"
   ]
  },
  {
   "cell_type": "code",
   "execution_count": 1,
   "id": "f0f0cf13",
   "metadata": {},
   "outputs": [
    {
     "name": "stdout",
     "output_type": "stream",
     "text": [
      "<class 'traj_pred.modules.encoder.NodeFutureEncoder'>\n"
     ]
    }
   ],
   "source": [
    "import traj_pred.modules as md\n",
    "print(md.NodeFutureEncoder)"
   ]
  },
  {
   "cell_type": "code",
   "execution_count": null,
   "id": "54c001a2",
   "metadata": {},
   "outputs": [],
   "source": [
    "with open('../config/pedestrians.json', 'r', encoding=\"utf-8\") as config_json:\n",
    "    hyperparams = json.load(config_json)\n",
    "hyperparams[\"device\"] = \"cpu\"\n",
    "hyperparams[\"edge_encoding\"] = True\n",
    "hyperparams[\"learning_rate\"] = 0.016\n",
    "hyperparams[\"contrastive_weight\"] = 50.0\n",
    "hyperparams[\"history_sec\"] = 2.8\n",
    "hyperparams[\"prediction_sec\"] = 4.8\n",
    "hyperparams[\"incl_robot_node\"] = False\n",
    "hyperparams[\"map_encoding\"] = False\n",
    "hyperparams[\"preprocess_workers\"] = 16\n",
    "hyperparams[\"trajdata_cache_dir\"] = \"../data/pedestrian_datasets/.unified_data_cache\"\n",
    "\n",
    "# hyperparams"
   ]
  },
  {
   "cell_type": "code",
   "execution_count": null,
   "id": "8f450ee3",
   "metadata": {},
   "outputs": [],
   "source": [
    "import dynamics as dynamic_module\n",
    "\n",
    "dynamic_class = getattr(\n",
    "    dynamic_module, hyperparams[\"dynamic\"][\"PEDESTRIAN\"][\"name\"]\n",
    ")"
   ]
  },
  {
   "cell_type": "code",
   "execution_count": null,
   "id": "075fb1c9",
   "metadata": {},
   "outputs": [],
   "source": []
  }
 ],
 "metadata": {
  "kernelspec": {
   "display_name": "fsp",
   "language": "python",
   "name": "python3"
  },
  "language_info": {
   "codemirror_mode": {
    "name": "ipython",
    "version": 3
   },
   "file_extension": ".py",
   "mimetype": "text/x-python",
   "name": "python",
   "nbconvert_exporter": "python",
   "pygments_lexer": "ipython3",
   "version": "3.9.21"
  }
 },
 "nbformat": 4,
 "nbformat_minor": 5
}
